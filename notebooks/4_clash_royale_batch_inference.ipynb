{
 "cells": [
  {
   "cell_type": "code",
   "execution_count": 33,
   "metadata": {},
   "outputs": [],
   "source": [
    "import datetime\n",
    "import pandas as pd\n",
    "from xgboost import XGBRegressor\n",
    "from xgboost import XGBClassifier\n",
    "import hopsworks\n",
    "import json\n",
    "import os"
   ]
  },
  {
   "cell_type": "code",
   "execution_count": 34,
   "metadata": {},
   "outputs": [
    {
     "name": "stdout",
     "output_type": "stream",
     "text": [
      "Data saved to player_stats.csv\n"
     ]
    }
   ],
   "source": [
    "import requests\n",
    "import csv\n",
    "\n",
    "# Replace this with your Clash Royale API token\n",
    "key_file_path = os.path.join('../data/clash-royale-api-key.txt')\n",
    "with open(key_file_path, 'r') as file:\n",
    "    api_key = file.read().strip()\n",
    "\n",
    "API_TOKEN = api_key\n",
    "PLAYER_TAG = \"#2LGY9G\"  # Replace with the player's tag (include the #)\n",
    "\n",
    "# Headers for the API request\n",
    "HEADERS = {\n",
    "    \"Authorization\": f\"Bearer {API_TOKEN}\"\n",
    "}\n",
    "\n",
    "# URL for player information\n",
    "BASE_URL = \"https://api.clashroyale.com/v1\"\n",
    "PLAYER_URL = f\"{BASE_URL}/players/{PLAYER_TAG.replace('#', '%23')}\"\n",
    "\n",
    "def fetch_player_data():\n",
    "    try:\n",
    "        response = requests.get(PLAYER_URL, headers=HEADERS)\n",
    "        response.raise_for_status()\n",
    "        return response.json()\n",
    "    except requests.exceptions.RequestException as e:\n",
    "        print(f\"Error fetching data: {e}\")\n",
    "        return None\n",
    "\n",
    "def save_to_csv(player_data):\n",
    "    # Define the CSV filename\n",
    "    filename = \"player_stats.csv\"\n",
    "\n",
    "    # Extract relevant information\n",
    "    player_name = player_data.get(\"name\", \"N/A\")\n",
    "    trophies = player_data.get(\"trophies\", \"N/A\")\n",
    "    clan = player_data.get(\"clan\", {}).get(\"name\", \"No Clan\")\n",
    "    deck = [\n",
    "        card[\"name\"] for card in player_data.get(\"currentDeck\", [])\n",
    "    ]\n",
    "\n",
    "    # Write to CSV\n",
    "    with open(filename, mode=\"w\", newline=\"\", encoding=\"utf-8\") as file:\n",
    "        writer = csv.writer(file)\n",
    "        writer.writerow([\"Player Name\", \"Trophies\", \"Clan\", \"Deck\"])\n",
    "        writer.writerow([player_name, trophies, clan, \", \".join(deck)])\n",
    "    \n",
    "    print(f\"Data saved to {filename}\")\n",
    "\n",
    "def main():\n",
    "    player_data = fetch_player_data()\n",
    "    if player_data:\n",
    "        save_to_csv(player_data)\n",
    "\n",
    "if __name__ == \"__main__\":\n",
    "    main()\n"
   ]
  },
  {
   "cell_type": "code",
   "execution_count": 35,
   "metadata": {},
   "outputs": [
    {
     "name": "stdout",
     "output_type": "stream",
     "text": [
      "2025-01-07 23:30:18,291 INFO: Closing external client and cleaning up certificates.\n",
      "Connection closed.\n",
      "2025-01-07 23:30:18,302 INFO: Initializing external client\n",
      "2025-01-07 23:30:18,304 INFO: Base URL: https://c.app.hopsworks.ai:443\n",
      "2025-01-07 23:30:19,891 INFO: Python Engine initialized.\n",
      "\n",
      "Logged in to project, explore it here https://c.app.hopsworks.ai:443/p/1164438\n"
     ]
    }
   ],
   "source": [
    "with open('../data/hopsworks-api-key.txt', 'r') as file:\n",
    "    os.environ[\"HOPSWORKS_API_KEY\"] = file.read().rstrip()\n",
    "project = hopsworks.login()\n",
    "fs = project.get_feature_store() "
   ]
  },
  {
   "cell_type": "code",
   "execution_count": 36,
   "metadata": {},
   "outputs": [],
   "source": [
    "# Retrieve feature groups for Clash Royale\n",
    "player_stats_fg = fs.get_feature_group(\n",
    "    name='clash_royale_onehotencoding',\n",
    "    version=5,\n",
    ")\n",
    "game_events_fg = fs.get_feature_group(\n",
    "    name='clash_royale_dataset_onehotencoding',\n",
    "    version=5,\n",
    ")\n"
   ]
  },
  {
   "cell_type": "code",
   "execution_count": 37,
   "metadata": {},
   "outputs": [
    {
     "name": "stdout",
     "output_type": "stream",
     "text": [
      "Collecting xgboost==1.6.2\n",
      "  Downloading xgboost-1.6.2-py3-none-win_amd64.whl.metadata (1.8 kB)\n",
      "Requirement already satisfied: numpy in c:\\users\\jacop\\anaconda3\\envs\\clash\\lib\\site-packages (from xgboost==1.6.2) (1.26.4)\n",
      "Requirement already satisfied: scipy in c:\\users\\jacop\\anaconda3\\envs\\clash\\lib\\site-packages (from xgboost==1.6.2) (1.15.0)\n",
      "Downloading xgboost-1.6.2-py3-none-win_amd64.whl (125.4 MB)\n",
      "   ---------------------------------------- 0.0/125.4 MB ? eta -:--:--\n",
      "   ---------------------------------------- 1.0/125.4 MB 6.3 MB/s eta 0:00:20\n",
      "    --------------------------------------- 2.6/125.4 MB 6.6 MB/s eta 0:00:19\n",
      "   - -------------------------------------- 3.9/125.4 MB 6.5 MB/s eta 0:00:19\n",
      "   - -------------------------------------- 5.2/125.4 MB 6.6 MB/s eta 0:00:19\n",
      "   -- ------------------------------------- 6.8/125.4 MB 6.7 MB/s eta 0:00:18\n",
      "   -- ------------------------------------- 8.1/125.4 MB 6.6 MB/s eta 0:00:18\n",
      "   --- ------------------------------------ 9.4/125.4 MB 6.6 MB/s eta 0:00:18\n",
      "   --- ------------------------------------ 11.0/125.4 MB 6.6 MB/s eta 0:00:18\n",
      "   --- ------------------------------------ 12.3/125.4 MB 6.7 MB/s eta 0:00:17\n",
      "   ---- ----------------------------------- 13.6/125.4 MB 6.6 MB/s eta 0:00:17\n",
      "   ---- ----------------------------------- 15.2/125.4 MB 6.6 MB/s eta 0:00:17\n",
      "   ----- ---------------------------------- 16.5/125.4 MB 6.6 MB/s eta 0:00:17\n",
      "   ----- ---------------------------------- 17.6/125.4 MB 6.5 MB/s eta 0:00:17\n",
      "   ----- ---------------------------------- 18.4/125.4 MB 6.5 MB/s eta 0:00:17\n",
      "   ----- ---------------------------------- 18.6/125.4 MB 6.1 MB/s eta 0:00:18\n",
      "   ------ --------------------------------- 19.1/125.4 MB 5.9 MB/s eta 0:00:18\n",
      "   ------ --------------------------------- 19.1/125.4 MB 5.9 MB/s eta 0:00:18\n",
      "   ------ --------------------------------- 19.7/125.4 MB 5.4 MB/s eta 0:00:20\n",
      "   ------ --------------------------------- 20.7/125.4 MB 5.2 MB/s eta 0:00:21\n",
      "   ------ --------------------------------- 21.8/125.4 MB 5.2 MB/s eta 0:00:20\n",
      "   ------- -------------------------------- 23.1/125.4 MB 5.3 MB/s eta 0:00:20\n",
      "   ------- -------------------------------- 24.1/125.4 MB 5.3 MB/s eta 0:00:20\n",
      "   -------- ------------------------------- 25.7/125.4 MB 5.4 MB/s eta 0:00:19\n",
      "   -------- ------------------------------- 27.0/125.4 MB 5.4 MB/s eta 0:00:19\n",
      "   --------- ------------------------------ 28.3/125.4 MB 5.5 MB/s eta 0:00:18\n",
      "   --------- ------------------------------ 29.6/125.4 MB 5.5 MB/s eta 0:00:18\n",
      "   --------- ------------------------------ 31.2/125.4 MB 5.5 MB/s eta 0:00:18\n",
      "   ---------- ----------------------------- 32.5/125.4 MB 5.6 MB/s eta 0:00:17\n",
      "   ---------- ----------------------------- 34.1/125.4 MB 5.6 MB/s eta 0:00:17\n",
      "   ----------- ---------------------------- 35.4/125.4 MB 5.6 MB/s eta 0:00:16\n",
      "   ----------- ---------------------------- 36.7/125.4 MB 5.7 MB/s eta 0:00:16\n",
      "   ------------ --------------------------- 38.3/125.4 MB 5.7 MB/s eta 0:00:16\n",
      "   ------------ --------------------------- 39.6/125.4 MB 5.7 MB/s eta 0:00:15\n",
      "   ------------- -------------------------- 40.9/125.4 MB 5.8 MB/s eta 0:00:15\n",
      "   ------------- -------------------------- 42.5/125.4 MB 5.8 MB/s eta 0:00:15\n",
      "   ------------- -------------------------- 43.8/125.4 MB 5.8 MB/s eta 0:00:15\n",
      "   -------------- ------------------------- 45.1/125.4 MB 5.8 MB/s eta 0:00:14\n",
      "   -------------- ------------------------- 46.4/125.4 MB 5.9 MB/s eta 0:00:14\n",
      "   --------------- ------------------------ 48.0/125.4 MB 5.9 MB/s eta 0:00:14\n",
      "   --------------- ------------------------ 49.3/125.4 MB 5.9 MB/s eta 0:00:13\n",
      "   ---------------- ----------------------- 50.6/125.4 MB 5.9 MB/s eta 0:00:13\n",
      "   ---------------- ----------------------- 52.2/125.4 MB 5.9 MB/s eta 0:00:13\n",
      "   ----------------- ---------------------- 53.5/125.4 MB 6.0 MB/s eta 0:00:13\n",
      "   ----------------- ---------------------- 54.8/125.4 MB 6.0 MB/s eta 0:00:12\n",
      "   ----------------- ---------------------- 56.1/125.4 MB 6.0 MB/s eta 0:00:12\n",
      "   ------------------ --------------------- 57.7/125.4 MB 6.0 MB/s eta 0:00:12\n",
      "   ------------------ --------------------- 59.0/125.4 MB 6.0 MB/s eta 0:00:12\n",
      "   ------------------- -------------------- 60.3/125.4 MB 6.0 MB/s eta 0:00:11\n",
      "   ------------------- -------------------- 61.6/125.4 MB 6.0 MB/s eta 0:00:11\n",
      "   -------------------- ------------------- 62.9/125.4 MB 6.0 MB/s eta 0:00:11\n",
      "   -------------------- ------------------- 64.5/125.4 MB 6.1 MB/s eta 0:00:11\n",
      "   -------------------- ------------------- 65.8/125.4 MB 6.1 MB/s eta 0:00:10\n",
      "   --------------------- ------------------ 67.1/125.4 MB 6.1 MB/s eta 0:00:10\n",
      "   --------------------- ------------------ 68.4/125.4 MB 6.1 MB/s eta 0:00:10\n",
      "   ---------------------- ----------------- 70.0/125.4 MB 6.1 MB/s eta 0:00:10\n",
      "   ---------------------- ----------------- 71.3/125.4 MB 6.1 MB/s eta 0:00:09\n",
      "   ----------------------- ---------------- 72.6/125.4 MB 6.1 MB/s eta 0:00:09\n",
      "   ----------------------- ---------------- 73.9/125.4 MB 6.1 MB/s eta 0:00:09\n",
      "   ----------------------- ---------------- 75.2/125.4 MB 6.1 MB/s eta 0:00:09\n",
      "   ------------------------ --------------- 76.8/125.4 MB 6.1 MB/s eta 0:00:08\n",
      "   ------------------------ --------------- 77.1/125.4 MB 6.1 MB/s eta 0:00:08\n",
      "   ------------------------ --------------- 77.6/125.4 MB 6.1 MB/s eta 0:00:08\n",
      "   ------------------------ --------------- 78.1/125.4 MB 6.0 MB/s eta 0:00:08\n",
      "   ------------------------ --------------- 78.4/125.4 MB 5.9 MB/s eta 0:00:08\n",
      "   ------------------------- -------------- 78.6/125.4 MB 5.9 MB/s eta 0:00:08\n",
      "   ------------------------- -------------- 80.0/125.4 MB 5.8 MB/s eta 0:00:08\n",
      "   ------------------------- -------------- 81.3/125.4 MB 5.8 MB/s eta 0:00:08\n",
      "   -------------------------- ------------- 82.6/125.4 MB 5.8 MB/s eta 0:00:08\n",
      "   -------------------------- ------------- 83.6/125.4 MB 5.8 MB/s eta 0:00:08\n",
      "   --------------------------- ------------ 84.9/125.4 MB 5.8 MB/s eta 0:00:07\n",
      "   --------------------------- ------------ 86.5/125.4 MB 5.8 MB/s eta 0:00:07\n",
      "   ---------------------------- ----------- 87.8/125.4 MB 5.9 MB/s eta 0:00:07\n",
      "   ---------------------------- ----------- 88.9/125.4 MB 5.9 MB/s eta 0:00:07\n",
      "   ---------------------------- ----------- 90.4/125.4 MB 5.9 MB/s eta 0:00:06\n",
      "   ----------------------------- ---------- 91.5/125.4 MB 5.9 MB/s eta 0:00:06\n",
      "   ----------------------------- ---------- 93.1/125.4 MB 5.9 MB/s eta 0:00:06\n",
      "   ------------------------------ --------- 94.4/125.4 MB 5.9 MB/s eta 0:00:06\n",
      "   ------------------------------ --------- 95.7/125.4 MB 5.9 MB/s eta 0:00:06\n",
      "   ------------------------------- -------- 97.3/125.4 MB 5.9 MB/s eta 0:00:05\n",
      "   ------------------------------- -------- 98.6/125.4 MB 5.9 MB/s eta 0:00:05\n",
      "   ------------------------------- -------- 99.9/125.4 MB 5.9 MB/s eta 0:00:05\n",
      "   -------------------------------- ------- 101.2/125.4 MB 5.9 MB/s eta 0:00:05\n",
      "   -------------------------------- ------- 102.8/125.4 MB 6.0 MB/s eta 0:00:04\n",
      "   --------------------------------- ------ 104.1/125.4 MB 6.0 MB/s eta 0:00:04\n",
      "   --------------------------------- ------ 105.4/125.4 MB 6.0 MB/s eta 0:00:04\n",
      "   ---------------------------------- ----- 106.7/125.4 MB 6.0 MB/s eta 0:00:04\n",
      "   ---------------------------------- ----- 108.3/125.4 MB 6.0 MB/s eta 0:00:03\n",
      "   ---------------------------------- ----- 109.6/125.4 MB 6.0 MB/s eta 0:00:03\n",
      "   ----------------------------------- ---- 110.9/125.4 MB 6.0 MB/s eta 0:00:03\n",
      "   ----------------------------------- ---- 112.2/125.4 MB 6.0 MB/s eta 0:00:03\n",
      "   ------------------------------------ --- 113.8/125.4 MB 6.0 MB/s eta 0:00:02\n",
      "   ------------------------------------ --- 115.1/125.4 MB 6.0 MB/s eta 0:00:02\n",
      "   ------------------------------------- -- 116.4/125.4 MB 6.0 MB/s eta 0:00:02\n",
      "   ------------------------------------- -- 117.7/125.4 MB 6.0 MB/s eta 0:00:02\n",
      "   ------------------------------------- -- 119.0/125.4 MB 6.0 MB/s eta 0:00:02\n",
      "   -------------------------------------- - 120.6/125.4 MB 6.0 MB/s eta 0:00:01\n",
      "   -------------------------------------- - 121.9/125.4 MB 6.0 MB/s eta 0:00:01\n",
      "   ---------------------------------------  123.2/125.4 MB 6.0 MB/s eta 0:00:01\n",
      "   ---------------------------------------  124.5/125.4 MB 6.1 MB/s eta 0:00:01\n",
      "   ---------------------------------------  125.3/125.4 MB 6.1 MB/s eta 0:00:01\n",
      "   ---------------------------------------  125.3/125.4 MB 6.1 MB/s eta 0:00:01\n",
      "   ---------------------------------------  125.3/125.4 MB 6.1 MB/s eta 0:00:01\n",
      "   ---------------------------------------- 125.4/125.4 MB 5.9 MB/s eta 0:00:00\n",
      "Installing collected packages: xgboost\n",
      "  Attempting uninstall: xgboost\n",
      "    Found existing installation: xgboost 2.1.3\n",
      "    Uninstalling xgboost-2.1.3:\n",
      "      Successfully uninstalled xgboost-2.1.3\n",
      "Successfully installed xgboost-1.6.2\n"
     ]
    },
    {
     "name": "stderr",
     "output_type": "stream",
     "text": [
      "  WARNING: Failed to remove contents in a temporary directory 'C:\\Users\\jacop\\anaconda3\\envs\\Clash\\Lib\\site-packages\\~gboost'.\n",
      "  You can safely remove it manually.\n"
     ]
    },
    {
     "name": "stdout",
     "output_type": "stream",
     "text": [
      "Collecting scikit-learn==1.2.2\n",
      "  Downloading scikit_learn-1.2.2-cp310-cp310-win_amd64.whl.metadata (11 kB)\n",
      "Requirement already satisfied: numpy>=1.17.3 in c:\\users\\jacop\\anaconda3\\envs\\clash\\lib\\site-packages (from scikit-learn==1.2.2) (1.26.4)\n",
      "Requirement already satisfied: scipy>=1.3.2 in c:\\users\\jacop\\anaconda3\\envs\\clash\\lib\\site-packages (from scikit-learn==1.2.2) (1.15.0)\n",
      "Requirement already satisfied: joblib>=1.1.1 in c:\\users\\jacop\\anaconda3\\envs\\clash\\lib\\site-packages (from scikit-learn==1.2.2) (1.4.2)\n",
      "Requirement already satisfied: threadpoolctl>=2.0.0 in c:\\users\\jacop\\anaconda3\\envs\\clash\\lib\\site-packages (from scikit-learn==1.2.2) (3.5.0)\n",
      "Downloading scikit_learn-1.2.2-cp310-cp310-win_amd64.whl (8.3 MB)\n",
      "   ---------------------------------------- 0.0/8.3 MB ? eta -:--:--\n",
      "   ----- ---------------------------------- 1.0/8.3 MB 5.6 MB/s eta 0:00:02\n",
      "   ------------ --------------------------- 2.6/8.3 MB 6.9 MB/s eta 0:00:01\n",
      "   ------------------ --------------------- 3.9/8.3 MB 6.7 MB/s eta 0:00:01\n",
      "   ------------------------- -------------- 5.2/8.3 MB 6.6 MB/s eta 0:00:01\n",
      "   ------------------------------- -------- 6.6/8.3 MB 6.7 MB/s eta 0:00:01\n",
      "   ---------------------------------------  8.1/8.3 MB 6.6 MB/s eta 0:00:01\n",
      "   ---------------------------------------- 8.3/8.3 MB 6.4 MB/s eta 0:00:00\n",
      "Installing collected packages: scikit-learn\n",
      "  Attempting uninstall: scikit-learn\n",
      "    Found existing installation: scikit-learn 1.6.0\n",
      "    Uninstalling scikit-learn-1.6.0:\n",
      "      Successfully uninstalled scikit-learn-1.6.0\n",
      "Successfully installed scikit-learn-1.2.2\n"
     ]
    },
    {
     "name": "stderr",
     "output_type": "stream",
     "text": [
      "  WARNING: Failed to remove contents in a temporary directory 'C:\\Users\\jacop\\anaconda3\\envs\\Clash\\Lib\\site-packages\\~klearn'.\n",
      "  You can safely remove it manually.\n"
     ]
    }
   ],
   "source": [
    "\n",
    "!pip install xgboost==1.6.2\n",
    "!pip install scikit-learn==1.2.2\n",
    "\n"
   ]
  },
  {
   "cell_type": "code",
   "execution_count": 38,
   "metadata": {},
   "outputs": [
    {
     "name": "stdout",
     "output_type": "stream",
     "text": [
      "Downloading model artifact (0 dirs, 1 files)... DONE\r"
     ]
    },
    {
     "data": {
      "text/plain": [
       "'C:\\\\Users\\\\jacop\\\\AppData\\\\Local\\\\Temp\\\\2bae5355-6f9a-42d5-a04b-ecb148acc242\\\\clash_royale_xgboost_model/1'"
      ]
     },
     "execution_count": 38,
     "metadata": {},
     "output_type": "execute_result"
    }
   ],
   "source": [
    "mr = project.get_model_registry()\n",
    "\n",
    "retrieved_model = mr.get_model(\n",
    "    name=\"clash_royale_xgboost_model\",\n",
    "    version=1,\n",
    ")\n",
    "\n",
    "# Download the saved model artifacts to a local directory\n",
    "saved_model_dir = retrieved_model.download()\n",
    "saved_model_dir"
   ]
  },
  {
   "cell_type": "code",
   "execution_count": null,
   "metadata": {},
   "outputs": [],
   "source": []
  },
  {
   "cell_type": "code",
   "execution_count": 39,
   "metadata": {},
   "outputs": [
    {
     "ename": "AttributeError",
     "evalue": "'super' object has no attribute '__sklearn_tags__'",
     "output_type": "error",
     "traceback": [
      "\u001b[1;31m---------------------------------------------------------------------------\u001b[0m",
      "\u001b[1;31mAttributeError\u001b[0m                            Traceback (most recent call last)",
      "Cell \u001b[1;32mIn[39], line 5\u001b[0m\n\u001b[0;32m      1\u001b[0m \u001b[38;5;66;03m# Loading the XGBoost regressor model and label encoder from the saved model directory\u001b[39;00m\n\u001b[0;32m      3\u001b[0m retrieved_xgboost_model \u001b[38;5;241m=\u001b[39m XGBClassifier(use_label_encoder\u001b[38;5;241m=\u001b[39m\u001b[38;5;28;01mFalse\u001b[39;00m, eval_metric\u001b[38;5;241m=\u001b[39m\u001b[38;5;124m'\u001b[39m\u001b[38;5;124mlogloss\u001b[39m\u001b[38;5;124m'\u001b[39m)\n\u001b[1;32m----> 5\u001b[0m \u001b[43mretrieved_xgboost_model\u001b[49m\u001b[38;5;241;43m.\u001b[39;49m\u001b[43mload_model\u001b[49m\u001b[43m(\u001b[49m\u001b[43msaved_model_dir\u001b[49m\u001b[43m \u001b[49m\u001b[38;5;241;43m+\u001b[39;49m\u001b[43m \u001b[49m\u001b[38;5;124;43m\"\u001b[39;49m\u001b[38;5;124;43m/model.json\u001b[39;49m\u001b[38;5;124;43m\"\u001b[39;49m\u001b[43m)\u001b[49m\n\u001b[0;32m      7\u001b[0m \u001b[38;5;66;03m# Displaying the retrieved XGBoost regressor model\u001b[39;00m\n\u001b[0;32m      8\u001b[0m \u001b[38;5;66;03m#retrieved_xgboost_model\u001b[39;00m\n",
      "File \u001b[1;32mc:\\Users\\jacop\\anaconda3\\envs\\Clash\\lib\\site-packages\\xgboost\\sklearn.py:930\u001b[0m, in \u001b[0;36mXGBModel.load_model\u001b[1;34m(self, fname)\u001b[0m\n\u001b[0;32m    928\u001b[0m \u001b[38;5;28mself\u001b[39m\u001b[38;5;241m.\u001b[39mget_booster()\u001b[38;5;241m.\u001b[39mset_attr(scikit_learn\u001b[38;5;241m=\u001b[39m\u001b[38;5;28;01mNone\u001b[39;00m)\n\u001b[0;32m    929\u001b[0m config \u001b[38;5;241m=\u001b[39m json\u001b[38;5;241m.\u001b[39mloads(\u001b[38;5;28mself\u001b[39m\u001b[38;5;241m.\u001b[39mget_booster()\u001b[38;5;241m.\u001b[39msave_config())\n\u001b[1;32m--> 930\u001b[0m \u001b[38;5;28;43mself\u001b[39;49m\u001b[38;5;241;43m.\u001b[39;49m\u001b[43m_load_model_attributes\u001b[49m\u001b[43m(\u001b[49m\u001b[43mconfig\u001b[49m\u001b[43m)\u001b[49m\n",
      "File \u001b[1;32mc:\\Users\\jacop\\anaconda3\\envs\\Clash\\lib\\site-packages\\xgboost\\sklearn.py:945\u001b[0m, in \u001b[0;36mXGBModel._load_model_attributes\u001b[1;34m(self, config)\u001b[0m\n\u001b[0;32m    942\u001b[0m \u001b[38;5;28mself\u001b[39m\u001b[38;5;241m.\u001b[39mbase_score \u001b[38;5;241m=\u001b[39m config[\u001b[38;5;124m\"\u001b[39m\u001b[38;5;124mlearner\u001b[39m\u001b[38;5;124m\"\u001b[39m][\u001b[38;5;124m\"\u001b[39m\u001b[38;5;124mlearner_model_param\u001b[39m\u001b[38;5;124m\"\u001b[39m][\u001b[38;5;124m\"\u001b[39m\u001b[38;5;124mbase_score\u001b[39m\u001b[38;5;124m\"\u001b[39m]\n\u001b[0;32m    943\u001b[0m \u001b[38;5;28mself\u001b[39m\u001b[38;5;241m.\u001b[39mfeature_types \u001b[38;5;241m=\u001b[39m booster\u001b[38;5;241m.\u001b[39mfeature_types\n\u001b[1;32m--> 945\u001b[0m \u001b[38;5;28;01mif\u001b[39;00m \u001b[43mis_classifier\u001b[49m\u001b[43m(\u001b[49m\u001b[38;5;28;43mself\u001b[39;49m\u001b[43m)\u001b[49m:\n\u001b[0;32m    946\u001b[0m     \u001b[38;5;28mself\u001b[39m\u001b[38;5;241m.\u001b[39mn_classes_ \u001b[38;5;241m=\u001b[39m \u001b[38;5;28mint\u001b[39m(config[\u001b[38;5;124m\"\u001b[39m\u001b[38;5;124mlearner\u001b[39m\u001b[38;5;124m\"\u001b[39m][\u001b[38;5;124m\"\u001b[39m\u001b[38;5;124mlearner_model_param\u001b[39m\u001b[38;5;124m\"\u001b[39m][\u001b[38;5;124m\"\u001b[39m\u001b[38;5;124mnum_class\u001b[39m\u001b[38;5;124m\"\u001b[39m])\n\u001b[0;32m    947\u001b[0m     \u001b[38;5;66;03m# binary classification is treated as regression in XGBoost.\u001b[39;00m\n",
      "File \u001b[1;32mc:\\Users\\jacop\\anaconda3\\envs\\Clash\\lib\\site-packages\\sklearn\\base.py:1237\u001b[0m, in \u001b[0;36mis_classifier\u001b[1;34m(estimator)\u001b[0m\n\u001b[0;32m   1230\u001b[0m     warnings\u001b[38;5;241m.\u001b[39mwarn(\n\u001b[0;32m   1231\u001b[0m         \u001b[38;5;124mf\u001b[39m\u001b[38;5;124m\"\u001b[39m\u001b[38;5;124mpassing a class to \u001b[39m\u001b[38;5;132;01m{\u001b[39;00m\u001b[38;5;28mprint\u001b[39m(inspect\u001b[38;5;241m.\u001b[39mstack()[\u001b[38;5;241m0\u001b[39m][\u001b[38;5;241m3\u001b[39m])\u001b[38;5;132;01m}\u001b[39;00m\u001b[38;5;124m is deprecated and \u001b[39m\u001b[38;5;124m\"\u001b[39m\n\u001b[0;32m   1232\u001b[0m         \u001b[38;5;124m\"\u001b[39m\u001b[38;5;124mwill be removed in 1.8. Use an instance of the class instead.\u001b[39m\u001b[38;5;124m\"\u001b[39m,\n\u001b[0;32m   1233\u001b[0m         \u001b[38;5;167;01mFutureWarning\u001b[39;00m,\n\u001b[0;32m   1234\u001b[0m     )\n\u001b[0;32m   1235\u001b[0m     \u001b[38;5;28;01mreturn\u001b[39;00m \u001b[38;5;28mgetattr\u001b[39m(estimator, \u001b[38;5;124m\"\u001b[39m\u001b[38;5;124m_estimator_type\u001b[39m\u001b[38;5;124m\"\u001b[39m, \u001b[38;5;28;01mNone\u001b[39;00m) \u001b[38;5;241m==\u001b[39m \u001b[38;5;124m\"\u001b[39m\u001b[38;5;124mclassifier\u001b[39m\u001b[38;5;124m\"\u001b[39m\n\u001b[1;32m-> 1237\u001b[0m \u001b[38;5;28;01mreturn\u001b[39;00m \u001b[43mget_tags\u001b[49m\u001b[43m(\u001b[49m\u001b[43mestimator\u001b[49m\u001b[43m)\u001b[49m\u001b[38;5;241m.\u001b[39mestimator_type \u001b[38;5;241m==\u001b[39m \u001b[38;5;124m\"\u001b[39m\u001b[38;5;124mclassifier\u001b[39m\u001b[38;5;124m\"\u001b[39m\n",
      "File \u001b[1;32mc:\\Users\\jacop\\anaconda3\\envs\\Clash\\lib\\site-packages\\sklearn\\utils\\_tags.py:405\u001b[0m, in \u001b[0;36mget_tags\u001b[1;34m(estimator)\u001b[0m\n\u001b[0;32m    403\u001b[0m \u001b[38;5;28;01mfor\u001b[39;00m klass \u001b[38;5;129;01min\u001b[39;00m \u001b[38;5;28mreversed\u001b[39m(\u001b[38;5;28mtype\u001b[39m(estimator)\u001b[38;5;241m.\u001b[39mmro()):\n\u001b[0;32m    404\u001b[0m     \u001b[38;5;28;01mif\u001b[39;00m \u001b[38;5;124m\"\u001b[39m\u001b[38;5;124m__sklearn_tags__\u001b[39m\u001b[38;5;124m\"\u001b[39m \u001b[38;5;129;01min\u001b[39;00m \u001b[38;5;28mvars\u001b[39m(klass):\n\u001b[1;32m--> 405\u001b[0m         sklearn_tags_provider[klass] \u001b[38;5;241m=\u001b[39m \u001b[43mklass\u001b[49m\u001b[38;5;241;43m.\u001b[39;49m\u001b[43m__sklearn_tags__\u001b[49m\u001b[43m(\u001b[49m\u001b[43mestimator\u001b[49m\u001b[43m)\u001b[49m  \u001b[38;5;66;03m# type: ignore[attr-defined]\u001b[39;00m\n\u001b[0;32m    406\u001b[0m         class_order\u001b[38;5;241m.\u001b[39mappend(klass)\n\u001b[0;32m    407\u001b[0m     \u001b[38;5;28;01melif\u001b[39;00m \u001b[38;5;124m\"\u001b[39m\u001b[38;5;124m_more_tags\u001b[39m\u001b[38;5;124m\"\u001b[39m \u001b[38;5;129;01min\u001b[39;00m \u001b[38;5;28mvars\u001b[39m(klass):\n",
      "File \u001b[1;32mc:\\Users\\jacop\\anaconda3\\envs\\Clash\\lib\\site-packages\\sklearn\\base.py:540\u001b[0m, in \u001b[0;36mClassifierMixin.__sklearn_tags__\u001b[1;34m(self)\u001b[0m\n\u001b[0;32m    539\u001b[0m \u001b[38;5;28;01mdef\u001b[39;00m \u001b[38;5;21m__sklearn_tags__\u001b[39m(\u001b[38;5;28mself\u001b[39m):\n\u001b[1;32m--> 540\u001b[0m     tags \u001b[38;5;241m=\u001b[39m \u001b[38;5;28;43msuper\u001b[39;49m\u001b[43m(\u001b[49m\u001b[43m)\u001b[49m\u001b[38;5;241;43m.\u001b[39;49m\u001b[43m__sklearn_tags__\u001b[49m()\n\u001b[0;32m    541\u001b[0m     tags\u001b[38;5;241m.\u001b[39mestimator_type \u001b[38;5;241m=\u001b[39m \u001b[38;5;124m\"\u001b[39m\u001b[38;5;124mclassifier\u001b[39m\u001b[38;5;124m\"\u001b[39m\n\u001b[0;32m    542\u001b[0m     tags\u001b[38;5;241m.\u001b[39mclassifier_tags \u001b[38;5;241m=\u001b[39m ClassifierTags()\n",
      "\u001b[1;31mAttributeError\u001b[0m: 'super' object has no attribute '__sklearn_tags__'"
     ]
    }
   ],
   "source": [
    "# Loading the XGBoost regressor model and label encoder from the saved model directory\n",
    "\n",
    "retrieved_xgboost_model = XGBClassifier(use_label_encoder=False, eval_metric='logloss')\n",
    "\n",
    "retrieved_xgboost_model.load_model(saved_model_dir + \"/model.json\")\n",
    "\n",
    "# Displaying the retrieved XGBoost regressor model\n",
    "#retrieved_xgboost_model"
   ]
  },
  {
   "cell_type": "code",
   "execution_count": null,
   "metadata": {},
   "outputs": [],
   "source": [
    "# QUA CE DA FARE IL DATAFRAME CON I DECK, deck 1 viene retrivato dall API , dentro player.csv, deck 2 viene scelto "
   ]
  },
  {
   "cell_type": "code",
   "execution_count": null,
   "metadata": {},
   "outputs": [],
   "source": [
    "df['result'] = retrieved_xgboost_model.predict(\n",
    "    df[['deck1','deck2']])"
   ]
  },
  {
   "cell_type": "code",
   "execution_count": null,
   "metadata": {},
   "outputs": [],
   "source": []
  },
  {
   "cell_type": "code",
   "execution_count": null,
   "metadata": {},
   "outputs": [],
   "source": []
  },
  {
   "cell_type": "code",
   "execution_count": null,
   "metadata": {},
   "outputs": [],
   "source": []
  }
 ],
 "metadata": {
  "kernelspec": {
   "display_name": "Clash",
   "language": "python",
   "name": "python3"
  },
  "language_info": {
   "codemirror_mode": {
    "name": "ipython",
    "version": 3
   },
   "file_extension": ".py",
   "mimetype": "text/x-python",
   "name": "python",
   "nbconvert_exporter": "python",
   "pygments_lexer": "ipython3",
   "version": "3.10.15"
  }
 },
 "nbformat": 4,
 "nbformat_minor": 2
}
