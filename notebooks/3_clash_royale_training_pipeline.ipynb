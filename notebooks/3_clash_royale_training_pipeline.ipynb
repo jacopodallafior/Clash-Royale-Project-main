{
 "cells": [
  {
   "cell_type": "code",
   "execution_count": 12,
   "metadata": {},
   "outputs": [
    {
     "name": "stdout",
     "output_type": "stream",
     "text": [
      "2025-01-05 22:46:54,847 INFO: Closing external client and cleaning up certificates.\n",
      "Connection closed.\n",
      "2025-01-05 22:46:54,859 INFO: Initializing external client\n",
      "2025-01-05 22:46:54,859 INFO: Base URL: https://c.app.hopsworks.ai:443\n",
      "2025-01-05 22:46:56,714 INFO: Python Engine initialized.\n",
      "\n",
      "Logged in to project, explore it here https://c.app.hopsworks.ai:443/p/1164438\n",
      "Finished: Reading data from Hopsworks, using Hopsworks Feature Query Service (0.61s) \n"
     ]
    },
    {
     "data": {
      "text/plain": [
       "'\\n# Retrieve features from feature groups\\nplayer_stats = player_stats_fg.select_all()\\ngame_events = game_events_fg.select_all()\\n\\n# Explicitly prefix column names to avoid ambiguity\\nplayer_stats = player_stats.with_column_renamed(\"player_name\", \"player_stats_player_name\")\\ngame_events = game_events.with_column_renamed(\"player_name\", \"game_events_player_name\")\\n\\n# Join the feature groups on the prefixed columns\\nselected_features = player_stats.join(\\n    game_events,\\n    on=[\"player_stats_player_name\", \"game_events_player_name\"]\\n)\\n\\n# Display the first 10 rows of the joined features\\nselected_features.show(10)\\n\\n\\nfeature_view = fs.get_or_create_feature_view(\\n    name=\\'clash_royale_fv\\',\\n    description=\"Clash Royale game prediction features\",\\n    version=1,\\n    labels=[\\'player_name\\'],\\n    #query=selected_features,\\n)\\n'"
      ]
     },
     "execution_count": 12,
     "metadata": {},
     "output_type": "execute_result"
    }
   ],
   "source": [
    "import os\n",
    "from datetime import datetime\n",
    "import pandas as pd\n",
    "import matplotlib.pyplot as plt\n",
    "from xgboost import XGBRegressor\n",
    "from xgboost import plot_importance\n",
    "from sklearn.metrics import mean_squared_error, r2_score\n",
    "import hopsworks\n",
    "\n",
    "\n",
    "import warnings\n",
    "warnings.filterwarnings(\"ignore\")\n",
    "\n",
    "# 1. Read your Hopsworks API Key from a file or environment variable\n",
    "#    For example, if stored in 'hopsworks-api-key.txt'\n",
    "with open('../data/hopsworks-api-key.txt', 'r') as f:\n",
    "    api_key = f.read().strip()\n",
    "\n",
    "# 2. Set the environment variable for Hopsworks\n",
    "os.environ[\"HOPSWORKS_API_KEY\"] = api_key\n",
    "\n",
    "project = hopsworks.login()\n",
    "fs = project.get_feature_store()\n",
    "\n",
    "# Retrieve feature groups for Clash Royale\n",
    "player_stats_fg = fs.get_feature_group(\n",
    "    name='clash_royale_onehotencoding',\n",
    "    version=4,\n",
    ")\n",
    "game_events_fg = fs.get_feature_group(\n",
    "    name='clash_royale_dataset_onehotencoding',\n",
    "    version=4,\n",
    ")\n",
    "\n",
    "df = player_stats_fg.read()\n",
    "\n",
    "\n",
    "\n",
    "\n",
    "'''\n",
    "# Retrieve features from feature groups\n",
    "player_stats = player_stats_fg.select_all()\n",
    "game_events = game_events_fg.select_all()\n",
    "\n",
    "# Explicitly prefix column names to avoid ambiguity\n",
    "player_stats = player_stats.with_column_renamed(\"player_name\", \"player_stats_player_name\")\n",
    "game_events = game_events.with_column_renamed(\"player_name\", \"game_events_player_name\")\n",
    "\n",
    "# Join the feature groups on the prefixed columns\n",
    "selected_features = player_stats.join(\n",
    "    game_events,\n",
    "    on=[\"player_stats_player_name\", \"game_events_player_name\"]\n",
    ")\n",
    "\n",
    "# Display the first 10 rows of the joined features\n",
    "selected_features.show(10)\n",
    "\n",
    "\n",
    "feature_view = fs.get_or_create_feature_view(\n",
    "    name='clash_royale_fv',\n",
    "    description=\"Clash Royale game prediction features\",\n",
    "    version=1,\n",
    "    labels=['player_name'],\n",
    "    #query=selected_features,\n",
    ")\n",
    "'''"
   ]
  },
  {
   "cell_type": "code",
   "execution_count": 13,
   "metadata": {},
   "outputs": [
    {
     "name": "stdout",
     "output_type": "stream",
     "text": [
      "Finished: Reading data from Hopsworks, using Hopsworks Feature Query Service (0.49s) \n"
     ]
    }
   ],
   "source": [
    "dfstats = player_stats_fg.read()"
   ]
  },
  {
   "cell_type": "code",
   "execution_count": 14,
   "metadata": {},
   "outputs": [
    {
     "name": "stdout",
     "output_type": "stream",
     "text": [
      "Finished: Reading data from Hopsworks, using Hopsworks Feature Query Service (1.68s) \n"
     ]
    }
   ],
   "source": [
    "dfdata = game_events_fg.read()"
   ]
  },
  {
   "cell_type": "code",
   "execution_count": 15,
   "metadata": {},
   "outputs": [],
   "source": [
    "df_1 = dfdata.iloc[:500,:]\n",
    "df_2 = dfdata.iloc[500:,:]"
   ]
  },
  {
   "cell_type": "code",
   "execution_count": 16,
   "metadata": {},
   "outputs": [],
   "source": [
    "selected_features = game_events_fg.select(['deck','deck2','result','result2'])"
   ]
  },
  {
   "cell_type": "code",
   "execution_count": 17,
   "metadata": {},
   "outputs": [
    {
     "name": "stdout",
     "output_type": "stream",
     "text": [
      "Feature view created successfully, explore it at \n",
      "https://c.app.hopsworks.ai:443/p/1164438/fs/1155141/fv/clashroyale_fv/version/1\n"
     ]
    }
   ],
   "source": [
    "feature_view = fs.get_or_create_feature_view(\n",
    "    name='clashroyale_fv',\n",
    "    description=\"deck features\",\n",
    "    version=1,\n",
    "    labels=['result'],\n",
    "    query=selected_features,\n",
    ")"
   ]
  },
  {
   "cell_type": "code",
   "execution_count": 22,
   "metadata": {},
   "outputs": [
    {
     "name": "stdout",
     "output_type": "stream",
     "text": [
      "X_train shape: (500, 6), y_train shape: (500, 2)\n",
      "X_test shape: (125, 6), y_test shape: (125, 2)\n"
     ]
    }
   ],
   "source": [
    "# Define the feature columns (all except the target columns)\n",
    "feature_columns = [col for col in df_1.columns if col not in ['Result1', 'Result2']]\n",
    "\n",
    "# Extract features and multiple targets for train and test sets\n",
    "X_train = df_1[feature_columns]  # Features from df_1\n",
    "y_train = df_1[['result', 'result2']]  # Two target variables from df_1\n",
    "\n",
    "X_test = df_2[feature_columns]   # Features from df_2\n",
    "y_test = df_2[['result', 'result2']]   # Two target variables from df_2\n",
    "\n",
    "# Display the shapes of the resulting splits\n",
    "print(f\"X_train shape: {X_train.shape}, y_train shape: {y_train.shape}\")\n",
    "print(f\"X_test shape: {X_test.shape}, y_test shape: {y_test.shape}\")\n"
   ]
  },
  {
   "cell_type": "code",
   "execution_count": null,
   "metadata": {},
   "outputs": [],
   "source": []
  },
  {
   "cell_type": "code",
   "execution_count": 21,
   "metadata": {},
   "outputs": [
    {
     "ename": "RestAPIError",
     "evalue": "Metadata operation error: (url: https://c.app.hopsworks.ai/hopsworks-api/api/project/1164438/featurestores/1155141/featureview/clashroyale_fv/version/1/trainingdatasets). Server response: \nHTTP code: 400, HTTP reason: Bad Request, body: b'{\"errorCode\":270172,\"usrMsg\":\"Failed to define time series split because event time column is not available in one or more feature groups.\",\"errorMsg\":\"Event time feature not found\"}', error code: 270172, error msg: Event time feature not found, user msg: Failed to define time series split because event time column is not available in one or more feature groups.",
     "output_type": "error",
     "traceback": [
      "\u001b[1;31m---------------------------------------------------------------------------\u001b[0m",
      "\u001b[1;31mRestAPIError\u001b[0m                              Traceback (most recent call last)",
      "Cell \u001b[1;32mIn[21], line 1\u001b[0m\n\u001b[1;32m----> 1\u001b[0m X_train, X_test, y_train, y_test \u001b[38;5;241m=\u001b[39m \u001b[43mfeature_view\u001b[49m\u001b[38;5;241;43m.\u001b[39;49m\u001b[43mtrain_test_split\u001b[49m\u001b[43m(\u001b[49m\n\u001b[0;32m      2\u001b[0m \u001b[43m    \u001b[49m\u001b[43mtest_start\u001b[49m\u001b[38;5;241;43m=\u001b[39;49m\u001b[38;5;241;43m300\u001b[39;49m\n\u001b[0;32m      3\u001b[0m \u001b[43m)\u001b[49m\n\u001b[0;32m      5\u001b[0m \u001b[38;5;66;03m# Drop unnecessary columns\u001b[39;00m\n\u001b[0;32m      6\u001b[0m train_features \u001b[38;5;241m=\u001b[39m X_train\u001b[38;5;241m.\u001b[39mdrop([\u001b[38;5;124m'\u001b[39m\u001b[38;5;124mdate\u001b[39m\u001b[38;5;124m'\u001b[39m, \u001b[38;5;124m'\u001b[39m\u001b[38;5;124mplayer_id\u001b[39m\u001b[38;5;124m'\u001b[39m], axis\u001b[38;5;241m=\u001b[39m\u001b[38;5;241m1\u001b[39m)\n",
      "File \u001b[1;32mc:\\Users\\jacop\\anaconda3\\envs\\cr\\lib\\site-packages\\hopsworks_common\\usage.py:246\u001b[0m, in \u001b[0;36mmethod_logger.<locals>.wrapper\u001b[1;34m(*args, **kwargs)\u001b[0m\n\u001b[0;32m    244\u001b[0m \u001b[38;5;28;01mexcept\u001b[39;00m \u001b[38;5;167;01mException\u001b[39;00m \u001b[38;5;28;01mas\u001b[39;00m e:\n\u001b[0;32m    245\u001b[0m     exception \u001b[38;5;241m=\u001b[39m e\n\u001b[1;32m--> 246\u001b[0m     \u001b[38;5;28;01mraise\u001b[39;00m e\n\u001b[0;32m    247\u001b[0m \u001b[38;5;28;01mfinally\u001b[39;00m:\n\u001b[0;32m    248\u001b[0m     \u001b[38;5;28;01mtry\u001b[39;00m:\n",
      "File \u001b[1;32mc:\\Users\\jacop\\anaconda3\\envs\\cr\\lib\\site-packages\\hopsworks_common\\usage.py:242\u001b[0m, in \u001b[0;36mmethod_logger.<locals>.wrapper\u001b[1;34m(*args, **kwargs)\u001b[0m\n\u001b[0;32m    239\u001b[0m exception \u001b[38;5;241m=\u001b[39m \u001b[38;5;28;01mNone\u001b[39;00m\n\u001b[0;32m    240\u001b[0m \u001b[38;5;28;01mtry\u001b[39;00m:\n\u001b[0;32m    241\u001b[0m     \u001b[38;5;66;03m# Call the original method\u001b[39;00m\n\u001b[1;32m--> 242\u001b[0m     result \u001b[38;5;241m=\u001b[39m \u001b[43mfunc\u001b[49m\u001b[43m(\u001b[49m\u001b[38;5;241;43m*\u001b[39;49m\u001b[43margs\u001b[49m\u001b[43m,\u001b[49m\u001b[43m \u001b[49m\u001b[38;5;241;43m*\u001b[39;49m\u001b[38;5;241;43m*\u001b[39;49m\u001b[43mkwargs\u001b[49m\u001b[43m)\u001b[49m\n\u001b[0;32m    243\u001b[0m     \u001b[38;5;28;01mreturn\u001b[39;00m result\n\u001b[0;32m    244\u001b[0m \u001b[38;5;28;01mexcept\u001b[39;00m \u001b[38;5;167;01mException\u001b[39;00m \u001b[38;5;28;01mas\u001b[39;00m e:\n",
      "File \u001b[1;32mc:\\Users\\jacop\\anaconda3\\envs\\cr\\lib\\site-packages\\hsfs\\feature_view.py:2435\u001b[0m, in \u001b[0;36mFeatureView.train_test_split\u001b[1;34m(self, test_size, train_start, train_end, test_start, test_end, description, extra_filter, statistics_config, read_options, spine, primary_key, event_time, training_helper_columns, dataframe_type, **kwargs)\u001b[0m\n\u001b[0;32m   2413\u001b[0m \u001b[38;5;28mself\u001b[39m\u001b[38;5;241m.\u001b[39m_validate_train_test_split(\n\u001b[0;32m   2414\u001b[0m     test_size\u001b[38;5;241m=\u001b[39mtest_size, train_end\u001b[38;5;241m=\u001b[39mtrain_end, test_start\u001b[38;5;241m=\u001b[39mtest_start\n\u001b[0;32m   2415\u001b[0m )\n\u001b[0;32m   2416\u001b[0m td \u001b[38;5;241m=\u001b[39m training_dataset\u001b[38;5;241m.\u001b[39mTrainingDataset(\n\u001b[0;32m   2417\u001b[0m     name\u001b[38;5;241m=\u001b[39m\u001b[38;5;28mself\u001b[39m\u001b[38;5;241m.\u001b[39mname,\n\u001b[0;32m   2418\u001b[0m     version\u001b[38;5;241m=\u001b[39m\u001b[38;5;28;01mNone\u001b[39;00m,\n\u001b[1;32m   (...)\u001b[0m\n\u001b[0;32m   2433\u001b[0m     extra_filter\u001b[38;5;241m=\u001b[39mextra_filter,\n\u001b[0;32m   2434\u001b[0m )\n\u001b[1;32m-> 2435\u001b[0m td, df \u001b[38;5;241m=\u001b[39m \u001b[38;5;28;43mself\u001b[39;49m\u001b[38;5;241;43m.\u001b[39;49m\u001b[43m_feature_view_engine\u001b[49m\u001b[38;5;241;43m.\u001b[39;49m\u001b[43mget_training_data\u001b[49m\u001b[43m(\u001b[49m\n\u001b[0;32m   2436\u001b[0m \u001b[43m    \u001b[49m\u001b[38;5;28;43mself\u001b[39;49m\u001b[43m,\u001b[49m\n\u001b[0;32m   2437\u001b[0m \u001b[43m    \u001b[49m\u001b[43mread_options\u001b[49m\u001b[43m,\u001b[49m\n\u001b[0;32m   2438\u001b[0m \u001b[43m    \u001b[49m\u001b[43mtraining_dataset_obj\u001b[49m\u001b[38;5;241;43m=\u001b[39;49m\u001b[43mtd\u001b[49m\u001b[43m,\u001b[49m\n\u001b[0;32m   2439\u001b[0m \u001b[43m    \u001b[49m\u001b[43msplits\u001b[49m\u001b[38;5;241;43m=\u001b[39;49m\u001b[43m[\u001b[49m\u001b[43mTrainingDatasetSplit\u001b[49m\u001b[38;5;241;43m.\u001b[39;49m\u001b[43mTRAIN\u001b[49m\u001b[43m,\u001b[49m\u001b[43m \u001b[49m\u001b[43mTrainingDatasetSplit\u001b[49m\u001b[38;5;241;43m.\u001b[39;49m\u001b[43mTEST\u001b[49m\u001b[43m]\u001b[49m\u001b[43m,\u001b[49m\n\u001b[0;32m   2440\u001b[0m \u001b[43m    \u001b[49m\u001b[43mspine\u001b[49m\u001b[38;5;241;43m=\u001b[39;49m\u001b[43mspine\u001b[49m\u001b[43m,\u001b[49m\n\u001b[0;32m   2441\u001b[0m \u001b[43m    \u001b[49m\u001b[43mprimary_keys\u001b[49m\u001b[38;5;241;43m=\u001b[39;49m\u001b[43mkwargs\u001b[49m\u001b[38;5;241;43m.\u001b[39;49m\u001b[43mget\u001b[49m\u001b[43m(\u001b[49m\u001b[38;5;124;43m\"\u001b[39;49m\u001b[38;5;124;43mprimary_keys\u001b[39;49m\u001b[38;5;124;43m\"\u001b[39;49m\u001b[43m)\u001b[49m\u001b[43m \u001b[49m\u001b[38;5;129;43;01mor\u001b[39;49;00m\u001b[43m \u001b[49m\u001b[43mprimary_key\u001b[49m\u001b[43m,\u001b[49m\n\u001b[0;32m   2442\u001b[0m \u001b[43m    \u001b[49m\u001b[43mevent_time\u001b[49m\u001b[38;5;241;43m=\u001b[39;49m\u001b[43mevent_time\u001b[49m\u001b[43m,\u001b[49m\n\u001b[0;32m   2443\u001b[0m \u001b[43m    \u001b[49m\u001b[43mtraining_helper_columns\u001b[49m\u001b[38;5;241;43m=\u001b[39;49m\u001b[43mtraining_helper_columns\u001b[49m\u001b[43m,\u001b[49m\n\u001b[0;32m   2444\u001b[0m \u001b[43m    \u001b[49m\u001b[43mdataframe_type\u001b[49m\u001b[38;5;241;43m=\u001b[39;49m\u001b[43mdataframe_type\u001b[49m\u001b[43m,\u001b[49m\n\u001b[0;32m   2445\u001b[0m \u001b[43m\u001b[49m\u001b[43m)\u001b[49m\n\u001b[0;32m   2446\u001b[0m warnings\u001b[38;5;241m.\u001b[39mwarn(\n\u001b[0;32m   2447\u001b[0m     \u001b[38;5;124m\"\u001b[39m\u001b[38;5;124mIncremented version to `\u001b[39m\u001b[38;5;132;01m{}\u001b[39;00m\u001b[38;5;124m`.\u001b[39m\u001b[38;5;124m\"\u001b[39m\u001b[38;5;241m.\u001b[39mformat(td\u001b[38;5;241m.\u001b[39mversion),\n\u001b[0;32m   2448\u001b[0m     util\u001b[38;5;241m.\u001b[39mVersionWarning,\n\u001b[0;32m   2449\u001b[0m     stacklevel\u001b[38;5;241m=\u001b[39m\u001b[38;5;241m1\u001b[39m,\n\u001b[0;32m   2450\u001b[0m )\n\u001b[0;32m   2451\u001b[0m \u001b[38;5;28mself\u001b[39m\u001b[38;5;241m.\u001b[39mupdate_last_accessed_training_dataset(td\u001b[38;5;241m.\u001b[39mversion)\n",
      "File \u001b[1;32mc:\\Users\\jacop\\anaconda3\\envs\\cr\\lib\\site-packages\\hsfs\\core\\feature_view_engine.py:431\u001b[0m, in \u001b[0;36mFeatureViewEngine.get_training_data\u001b[1;34m(self, feature_view_obj, read_options, splits, training_dataset_obj, training_dataset_version, spine, primary_keys, event_time, training_helper_columns, dataframe_type)\u001b[0m\n\u001b[0;32m    429\u001b[0m \u001b[38;5;28;01melse\u001b[39;00m:\n\u001b[0;32m    430\u001b[0m     \u001b[38;5;28mself\u001b[39m\u001b[38;5;241m.\u001b[39m_set_event_time(feature_view_obj, training_dataset_obj)\n\u001b[1;32m--> 431\u001b[0m     td_updated \u001b[38;5;241m=\u001b[39m \u001b[38;5;28;43mself\u001b[39;49m\u001b[38;5;241;43m.\u001b[39;49m\u001b[43m_create_training_data_metadata\u001b[49m\u001b[43m(\u001b[49m\n\u001b[0;32m    432\u001b[0m \u001b[43m        \u001b[49m\u001b[43mfeature_view_obj\u001b[49m\u001b[43m,\u001b[49m\u001b[43m \u001b[49m\u001b[43mtraining_dataset_obj\u001b[49m\n\u001b[0;32m    433\u001b[0m \u001b[43m    \u001b[49m\u001b[43m)\u001b[49m\n\u001b[0;32m    434\u001b[0m \u001b[38;5;66;03m# check splits\u001b[39;00m\n\u001b[0;32m    435\u001b[0m \u001b[38;5;28;01mif\u001b[39;00m splits \u001b[38;5;129;01mis\u001b[39;00m \u001b[38;5;28;01mNone\u001b[39;00m:\n",
      "File \u001b[1;32mc:\\Users\\jacop\\anaconda3\\envs\\cr\\lib\\site-packages\\hsfs\\core\\feature_view_engine.py:875\u001b[0m, in \u001b[0;36mFeatureViewEngine._create_training_data_metadata\u001b[1;34m(self, feature_view_obj, training_dataset_obj)\u001b[0m\n\u001b[0;32m    874\u001b[0m \u001b[38;5;28;01mdef\u001b[39;00m \u001b[38;5;21m_create_training_data_metadata\u001b[39m(\u001b[38;5;28mself\u001b[39m, feature_view_obj, training_dataset_obj):\n\u001b[1;32m--> 875\u001b[0m     td \u001b[38;5;241m=\u001b[39m \u001b[38;5;28;43mself\u001b[39;49m\u001b[38;5;241;43m.\u001b[39;49m\u001b[43m_feature_view_api\u001b[49m\u001b[38;5;241;43m.\u001b[39;49m\u001b[43mcreate_training_dataset\u001b[49m\u001b[43m(\u001b[49m\n\u001b[0;32m    876\u001b[0m \u001b[43m        \u001b[49m\u001b[43mfeature_view_obj\u001b[49m\u001b[38;5;241;43m.\u001b[39;49m\u001b[43mname\u001b[49m\u001b[43m,\u001b[49m\u001b[43m \u001b[49m\u001b[43mfeature_view_obj\u001b[49m\u001b[38;5;241;43m.\u001b[39;49m\u001b[43mversion\u001b[49m\u001b[43m,\u001b[49m\u001b[43m \u001b[49m\u001b[43mtraining_dataset_obj\u001b[49m\n\u001b[0;32m    877\u001b[0m \u001b[43m    \u001b[49m\u001b[43m)\u001b[49m\n\u001b[0;32m    878\u001b[0m     \u001b[38;5;28;01mreturn\u001b[39;00m td\n",
      "File \u001b[1;32mc:\\Users\\jacop\\anaconda3\\envs\\cr\\lib\\site-packages\\hsfs\\core\\feature_view_api.py:247\u001b[0m, in \u001b[0;36mFeatureViewApi.create_training_dataset\u001b[1;34m(self, name, version, training_dataset_obj)\u001b[0m\n\u001b[0;32m    244\u001b[0m path \u001b[38;5;241m=\u001b[39m \u001b[38;5;28mself\u001b[39m\u001b[38;5;241m.\u001b[39mget_training_data_base_path(name, version)\n\u001b[0;32m    245\u001b[0m headers \u001b[38;5;241m=\u001b[39m {\u001b[38;5;124m\"\u001b[39m\u001b[38;5;124mcontent-type\u001b[39m\u001b[38;5;124m\"\u001b[39m: \u001b[38;5;124m\"\u001b[39m\u001b[38;5;124mapplication/json\u001b[39m\u001b[38;5;124m\"\u001b[39m}\n\u001b[0;32m    246\u001b[0m \u001b[38;5;28;01mreturn\u001b[39;00m training_dataset_obj\u001b[38;5;241m.\u001b[39mupdate_from_response_json(\n\u001b[1;32m--> 247\u001b[0m     \u001b[38;5;28;43mself\u001b[39;49m\u001b[38;5;241;43m.\u001b[39;49m\u001b[43m_client\u001b[49m\u001b[38;5;241;43m.\u001b[39;49m\u001b[43m_send_request\u001b[49m\u001b[43m(\u001b[49m\n\u001b[0;32m    248\u001b[0m \u001b[43m        \u001b[49m\u001b[38;5;124;43m\"\u001b[39;49m\u001b[38;5;124;43mPOST\u001b[39;49m\u001b[38;5;124;43m\"\u001b[39;49m\u001b[43m,\u001b[49m\u001b[43m \u001b[49m\u001b[43mpath\u001b[49m\u001b[43m,\u001b[49m\u001b[43m \u001b[49m\u001b[43mheaders\u001b[49m\u001b[38;5;241;43m=\u001b[39;49m\u001b[43mheaders\u001b[49m\u001b[43m,\u001b[49m\u001b[43m \u001b[49m\u001b[43mdata\u001b[49m\u001b[38;5;241;43m=\u001b[39;49m\u001b[43mtraining_dataset_obj\u001b[49m\u001b[38;5;241;43m.\u001b[39;49m\u001b[43mjson\u001b[49m\u001b[43m(\u001b[49m\u001b[43m)\u001b[49m\n\u001b[0;32m    249\u001b[0m \u001b[43m    \u001b[49m\u001b[43m)\u001b[49m\n\u001b[0;32m    250\u001b[0m )\n",
      "File \u001b[1;32mc:\\Users\\jacop\\anaconda3\\envs\\cr\\lib\\site-packages\\hopsworks_common\\decorators.py:45\u001b[0m, in \u001b[0;36mconnected.<locals>.if_connected\u001b[1;34m(inst, *args, **kwargs)\u001b[0m\n\u001b[0;32m     43\u001b[0m \u001b[38;5;28;01mif\u001b[39;00m \u001b[38;5;129;01mnot\u001b[39;00m inst\u001b[38;5;241m.\u001b[39m_connected:\n\u001b[0;32m     44\u001b[0m     \u001b[38;5;28;01mraise\u001b[39;00m NoHopsworksConnectionError\n\u001b[1;32m---> 45\u001b[0m \u001b[38;5;28;01mreturn\u001b[39;00m \u001b[43mfn\u001b[49m\u001b[43m(\u001b[49m\u001b[43minst\u001b[49m\u001b[43m,\u001b[49m\u001b[43m \u001b[49m\u001b[38;5;241;43m*\u001b[39;49m\u001b[43margs\u001b[49m\u001b[43m,\u001b[49m\u001b[43m \u001b[49m\u001b[38;5;241;43m*\u001b[39;49m\u001b[38;5;241;43m*\u001b[39;49m\u001b[43mkwargs\u001b[49m\u001b[43m)\u001b[49m\n",
      "File \u001b[1;32mc:\\Users\\jacop\\anaconda3\\envs\\cr\\lib\\site-packages\\hopsworks_common\\client\\base.py:186\u001b[0m, in \u001b[0;36mClient._send_request\u001b[1;34m(self, method, path_params, query_params, headers, data, stream, files, with_base_path_params)\u001b[0m\n\u001b[0;32m    181\u001b[0m     response \u001b[38;5;241m=\u001b[39m \u001b[38;5;28mself\u001b[39m\u001b[38;5;241m.\u001b[39m_retry_token_expired(\n\u001b[0;32m    182\u001b[0m         request, stream, \u001b[38;5;28mself\u001b[39m\u001b[38;5;241m.\u001b[39mTOKEN_EXPIRED_RETRY_INTERVAL, \u001b[38;5;241m1\u001b[39m\n\u001b[0;32m    183\u001b[0m     )\n\u001b[0;32m    185\u001b[0m \u001b[38;5;28;01mif\u001b[39;00m response\u001b[38;5;241m.\u001b[39mstatus_code \u001b[38;5;241m/\u001b[39m\u001b[38;5;241m/\u001b[39m \u001b[38;5;241m100\u001b[39m \u001b[38;5;241m!=\u001b[39m \u001b[38;5;241m2\u001b[39m:\n\u001b[1;32m--> 186\u001b[0m     \u001b[38;5;28;01mraise\u001b[39;00m exceptions\u001b[38;5;241m.\u001b[39mRestAPIError(url, response)\n\u001b[0;32m    188\u001b[0m \u001b[38;5;28;01mif\u001b[39;00m stream:\n\u001b[0;32m    189\u001b[0m     \u001b[38;5;28;01mreturn\u001b[39;00m response\n",
      "\u001b[1;31mRestAPIError\u001b[0m: Metadata operation error: (url: https://c.app.hopsworks.ai/hopsworks-api/api/project/1164438/featurestores/1155141/featureview/clashroyale_fv/version/1/trainingdatasets). Server response: \nHTTP code: 400, HTTP reason: Bad Request, body: b'{\"errorCode\":270172,\"usrMsg\":\"Failed to define time series split because event time column is not available in one or more feature groups.\",\"errorMsg\":\"Event time feature not found\"}', error code: 270172, error msg: Event time feature not found, user msg: Failed to define time series split because event time column is not available in one or more feature groups."
     ]
    }
   ],
   "source": [
    "\n",
    "\n",
    "X_train, X_test, y_train, y_test = feature_view.train_test_split(\n",
    "    test_start=300\n",
    ")\n",
    "\n",
    "# Drop unnecessary columns\n",
    "train_features = X_train.drop(['date', 'player_id'], axis=1)\n",
    "test_features = X_test.drop(['date', 'player_id'], axis=1)\n",
    "\n",
    "# Create and train the XGBoost Regressor\n",
    "xgb_regressor = XGBRegressor()\n",
    "xgb_regressor.fit(train_features, y_train)\n",
    "\n",
    "# Predict game outcomes on the test set\n",
    "y_pred = xgb_regressor.predict(test_features)\n",
    "\n",
    "# Calculate and print metrics\n",
    "mse = mean_squared_error(y_test.iloc[:, 0], y_pred)\n",
    "print(\"MSE:\", mse)\n",
    "\n",
    "r2 = r2_score(y_test.iloc[:, 0], y_pred)\n",
    "print(\"R squared:\", r2)\n",
    "\n",
    "# Save predictions to DataFrame\n",
    "df = y_test\n",
    "df['predicted_game_outcome'] = y_pred\n",
    "\n",
    "# Create directory for model artifacts\n",
    "model_dir = \"clash_royale_model\"\n",
    "if not os.path.exists(model_dir):\n",
    "    os.mkdir(model_dir)\n",
    "images_dir = model_dir + \"/images\"\n",
    "if not os.path.exists(images_dir):\n",
    "    os.mkdir(images_dir)\n",
    "\n",
    "# Visualize and save feature importance\n",
    "plot_importance(xgb_regressor, max_num_features=4)\n",
    "feature_importance_path = images_dir + \"/feature_importance.png\"\n",
    "plt.savefig(feature_importance_path)\n",
    "plt.show()\n",
    "\n",
    "from hsml.schema import Schema\n",
    "from hsml.model_schema import ModelSchema\n",
    "\n",
    "# Define input and output schemas\n",
    "input_schema = Schema(X_train)\n",
    "output_schema = Schema(y_train)\n",
    "model_schema = ModelSchema(input_schema=input_schema, output_schema=output_schema)\n",
    "schema_dict = model_schema.to_dict()\n",
    "\n",
    "# Save the XGBoost model\n",
    "xgb_regressor.save_model(model_dir + \"/model.json\")\n",
    "mr = project.get_model_registry()\n",
    "\n",
    "# Register the model in the Hopsworks model registry\n",
    "cr_model = mr.python.create_model(\n",
    "    name=\"clash_royale_xgboost_model\",\n",
    "    metrics={\"mse\": mse, \"r2\": r2},\n",
    "    model_schema=model_schema,\n",
    "    input_example=X_test.sample().values,\n",
    "    description=\"Clash Royale game outcome predictor\",\n",
    ")\n",
    "\n",
    "# Save the model artifacts to the registry\n",
    "cr_model.save(model_dir)\n"
   ]
  }
 ],
 "metadata": {
  "kernelspec": {
   "display_name": "cr",
   "language": "python",
   "name": "python3"
  },
  "language_info": {
   "codemirror_mode": {
    "name": "ipython",
    "version": 3
   },
   "file_extension": ".py",
   "mimetype": "text/x-python",
   "name": "python",
   "nbconvert_exporter": "python",
   "pygments_lexer": "ipython3",
   "version": "3.8.20"
  }
 },
 "nbformat": 4,
 "nbformat_minor": 2
}
